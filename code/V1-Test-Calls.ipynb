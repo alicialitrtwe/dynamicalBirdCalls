{
 "cells": [
  {
   "cell_type": "code",
   "execution_count": 1,
   "metadata": {},
   "outputs": [],
   "source": [
    "import numpy as np\n",
    "import os\n",
    "import pandas as pd\n",
    "import matplotlib.pyplot as plt\n",
    "from sklearn.decomposition import PCA\n",
    "from Spectrogram import spectrogram\n",
    "from ripser import Rips\n",
    "from sklearn import datasets"
   ]
  },
  {
   "cell_type": "code",
   "execution_count": 2,
   "metadata": {},
   "outputs": [],
   "source": [
    "from sklearn.linear_model import LogisticRegression\n",
    "from sklearn.model_selection import train_test_split"
   ]
  },
  {
   "cell_type": "code",
   "execution_count": 4,
   "metadata": {},
   "outputs": [],
   "source": [
    "from soundsig.sound import BioSound \n",
    "from AttractorReconstructUtilities import TimeSeries3D,TimeDelayReconstruct, TimeSeries2Ani \n",
    "from persim import PersImage"
   ]
  },
  {
   "cell_type": "code",
   "execution_count": 5,
   "metadata": {},
   "outputs": [],
   "source": [
    "# Go to the folder that has the h5 files corresponding to the BioSound objects.\n",
    "h5dir = '/Users/Alicia/Desktop/AdultVocalizations/h5files300_3000'\n",
    "os.chdir(h5dir)"
   ]
  },
  {
   "cell_type": "code",
   "execution_count": null,
   "metadata": {},
   "outputs": [],
   "source": [
    "from sklearn.preprocessing import LabelEncoder\n",
    "\n",
    "X = df[[0,1,2,3]].values\n",
    "y = df['class label'].values\n",
    "\n",
    "enc = LabelEncoder()\n",
    "label_encoder = enc.fit(y)\n",
    "y = label_encoder.transform(y) + 1"
   ]
  },
  {
   "cell_type": "code",
   "execution_count": null,
   "metadata": {},
   "outputs": [],
   "source": [
    "#timeDelayedSeg = TimeDelayReconstruct(midSeg, Dimension=dimension, TimeDelayIndex=tau)\n",
    "#pca = PCA(n_components=3)\n",
    "#timeDelayedSeg = pca.fit_transform(timeDelayedSeg)"
   ]
  },
  {
   "cell_type": "code",
   "execution_count": null,
   "metadata": {
    "scrolled": true
   },
   "outputs": [],
   "source": [
    "plt.figure(figsize=(8,6))\n",
    "indices = np.concatenate((np.where(labels==0)[0], np.where(labels==3)[0]))\n",
    "for i in range(10):\n",
    "    plt.subplot(2,5,i+1)\n",
    "    rips.plot(diagrams_h1[indices[i]], show=False)\n",
    "    plt.title(\"PD of $H_1$ for %d\" %i)\n",
    "plt.show()"
   ]
  },
  {
   "cell_type": "code",
   "execution_count": null,
   "metadata": {
    "scrolled": false
   },
   "outputs": [],
   "source": [
    "plt.figure(figsize=(8,6))\n",
    "indices = np.concatenate((np.where(labels==1)[0], np.where(labels==2)[0]))\n",
    "for i in range(10):\n",
    "    ax=plt.subplot(2,5,i+1)\n",
    "    pim.show(imgs[-indices[i]], ax)\n",
    "plt.show()"
   ]
  },
  {
   "cell_type": "code",
   "execution_count": null,
   "metadata": {
    "scrolled": true
   },
   "outputs": [],
   "source": [
    "indices = np.concatenate((np.where(labels==2)[0], np.where(labels==0)[0]))\n",
    "X_train, X_test, y_train, y_test = train_test_split(imgs_array[:], labels[:], test_size=0.1, random_state=51)"
   ]
  },
  {
   "cell_type": "code",
   "execution_count": null,
   "metadata": {
    "scrolled": true
   },
   "outputs": [],
   "source": [
    "lr = LogisticRegression(multi_class='ovr',solver='liblinear')\n",
    "lr.fit(X_train, y_train)"
   ]
  },
  {
   "cell_type": "code",
   "execution_count": null,
   "metadata": {
    "scrolled": true
   },
   "outputs": [],
   "source": [
    "lr.score(X_test, y_test)"
   ]
  },
  {
   "cell_type": "code",
   "execution_count": null,
   "metadata": {
    "scrolled": false
   },
   "outputs": [],
   "source": [
    "plt.figure()\n",
    "inverse_image = np.copy(lr.coef_).reshape((25,25))\n",
    "pim.show(inverse_image)"
   ]
  },
  {
   "cell_type": "code",
   "execution_count": null,
   "metadata": {},
   "outputs": [],
   "source": []
  },
  {
   "cell_type": "code",
   "execution_count": null,
   "metadata": {
    "scrolled": true
   },
   "outputs": [],
   "source": [
    "fig = plt.figure()\n",
    "#for i in range(len(allTimeDelayedSeg)):\n",
    "iplot = 1\n",
    "for i in np.concatenate((np.arange(80,85), np.arange(25,30))): \n",
    "    ax = plt.subplot(2,5,iplot, projection='3d')\n",
    "    data = allTimeDelayedSeg[i]\n",
    "    ax.scatter(data[:,0], data[:,1], data[:,2], s=4)\n",
    "    iplot+=1\n",
    "# ax2=fig.add_subplot(122)\n",
    "# rips.plot(dgms[1], legend=False, show=False)\n",
    "# plt.title(\"Persistence diagram of $H_0$ and $H_1$\")\n",
    "# plt.show()"
   ]
  },
  {
   "cell_type": "code",
   "execution_count": null,
   "metadata": {
    "scrolled": false
   },
   "outputs": [],
   "source": [
    "fig = plt.figure()\n",
    "#for i in range(len(allTimeDelayedSeg)):\n",
    "iplot = 1\n",
    "for i in np.concatenate((np.arange(5), np.arange(85,90))): \n",
    "    ax=plt.subplot(2,5,iplot)\n",
    "    data = allTimeDelayedSeg[i]\n",
    "    ax.plot(data[:,0])\n",
    "    iplot+=1"
   ]
  }
 ],
 "metadata": {
  "kernelspec": {
   "display_name": "tstop",
   "language": "python",
   "name": "tstop"
  },
  "language_info": {
   "codemirror_mode": {
    "name": "ipython",
    "version": 3
   },
   "file_extension": ".py",
   "mimetype": "text/x-python",
   "name": "python",
   "nbconvert_exporter": "python",
   "pygments_lexer": "ipython3",
   "version": "3.7.4"
  }
 },
 "nbformat": 4,
 "nbformat_minor": 2
}
